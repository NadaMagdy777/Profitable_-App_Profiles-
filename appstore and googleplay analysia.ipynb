{
 "cells": [
  {
   "cell_type": "code",
   "execution_count": 1,
   "id": "90f02583",
   "metadata": {},
   "outputs": [],
   "source": [
    "##exploring function\n",
    "\n",
    "def explore_data(dataset,start,end,rows_columns=False):\n",
    "    dataset_slice=dataset[start:end]\n",
    "    for row in dataset_slice:\n",
    "        print(row,end='\\n')\n",
    "    if rows_columns:\n",
    "        print('number of rows =',len(dataset))\n",
    "        print('number of columns =',len(dataset[0]))\n",
    "    "
   ]
  },
  {
   "cell_type": "code",
   "execution_count": 2,
   "id": "2824d78e",
   "metadata": {},
   "outputs": [],
   "source": [
    "##loading data\n",
    "\n",
    "## first load googleplaystore data\n",
    "from csv import reader\n",
    "\n",
    "##open and read googleplaystorefile\n",
    "open_file=open(\"googleplaystore.csv\")\n",
    "read_file=reader(open_file)\n",
    "android=list(read_file)\n",
    "\n",
    "\n",
    "android_header=android[0]\n",
    "\n",
    "android=android[1:]"
   ]
  },
  {
   "cell_type": "code",
   "execution_count": 3,
   "id": "8e4cb554",
   "metadata": {},
   "outputs": [],
   "source": [
    "## second load AppleStore data\n",
    "\n",
    "from csv import reader\n",
    "\n",
    "##open and read AppleStorefile\n",
    "open_file=open(\"AppleStore.csv\")\n",
    "read_file=reader(open_file)\n",
    "iphone=list(read_file)\n",
    "\n",
    "\n",
    "iphone_header=iphone[0]\n",
    "\n",
    "iphone=iphone[1:]\n"
   ]
  },
  {
   "cell_type": "code",
   "execution_count": 4,
   "id": "64a5f837",
   "metadata": {},
   "outputs": [
    {
     "name": "stdout",
     "output_type": "stream",
     "text": [
      "['App', 'Category', 'Rating', 'Reviews', 'Size', 'Installs', 'Type', 'Price', 'Content Rating', 'Genres', 'Last Updated', 'Current Ver', 'Android Ver']\n",
      "\n",
      "\n",
      "['Photo Editor & Candy Camera & Grid & ScrapBook', 'ART_AND_DESIGN', '4.1', '159', '19M', '10,000+', 'Free', '0', 'Everyone', 'Art & Design', 'January 7, 2018', '1.0.0', '4.0.3 and up']\n",
      "['Coloring book moana', 'ART_AND_DESIGN', '3.9', '967', '14M', '500,000+', 'Free', '0', 'Everyone', 'Art & Design;Pretend Play', 'January 15, 2018', '2.0.0', '4.0.3 and up']\n",
      "['U Launcher Lite â€“ FREE Live Cool Themes, Hide Apps', 'ART_AND_DESIGN', '4.7', '87510', '8.7M', '5,000,000+', 'Free', '0', 'Everyone', 'Art & Design', 'August 1, 2018', '1.2.4', '4.0.3 and up']\n",
      "number of rows = 10841\n",
      "number of columns = 13\n"
     ]
    }
   ],
   "source": [
    "#exploring googleplay data\n",
    "\n",
    "print(android_header)\n",
    "print('\\n')\n",
    "explore_data(android,0,3,True)"
   ]
  },
  {
   "cell_type": "code",
   "execution_count": 5,
   "id": "783368c8",
   "metadata": {},
   "outputs": [
    {
     "name": "stdout",
     "output_type": "stream",
     "text": [
      "['', 'id', 'track_name', 'size_bytes', 'currency', 'price', 'rating_count_tot', 'rating_count_ver', 'user_rating', 'user_rating_ver', 'ver', 'cont_rating', 'prime_genre', 'sup_devices.num', 'ipadSc_urls.num', 'lang.num', 'vpp_lic']\n",
      "\n",
      "\n",
      "['1', '281656475', 'PAC-MAN Premium', '100788224', 'USD', '3.99', '21292', '26', '4', '4.5', '6.3.5', '4+', 'Games', '38', '5', '10', '1']\n",
      "['2', '281796108', 'Evernote - stay organized', '158578688', 'USD', '0', '161065', '26', '4', '3.5', '8.2.2', '4+', 'Productivity', '37', '5', '23', '1']\n",
      "['3', '281940292', 'WeatherBug - Local Weather, Radar, Maps, Alerts', '100524032', 'USD', '0', '188583', '2822', '3.5', '4.5', '5.0.0', '4+', 'Weather', '37', '5', '3', '1']\n",
      "number of rows = 7197\n",
      "number of columns = 17\n"
     ]
    }
   ],
   "source": [
    "#exploring AppleStore data\n",
    "\n",
    "print(iphone_header)\n",
    "print('\\n')\n",
    "explore_data(iphone,0,3,True)"
   ]
  },
  {
   "cell_type": "code",
   "execution_count": 6,
   "id": "5a7ff568",
   "metadata": {},
   "outputs": [
    {
     "name": "stdout",
     "output_type": "stream",
     "text": [
      "['App', 'Category', 'Rating', 'Reviews', 'Size', 'Installs', 'Type', 'Price', 'Content Rating', 'Genres', 'Last Updated', 'Current Ver', 'Android Ver']\n",
      "\n",
      "\n",
      "['Life Made WI-Fi Touchscreen Photo Frame', '1.9', '19', '3.0M', '1,000+', 'Free', '0', 'Everyone', '', 'February 11, 2018', '1.0.19', '4.0 and up']\n",
      "\n",
      "\n",
      "['Photo Editor & Candy Camera & Grid & ScrapBook', 'ART_AND_DESIGN', '4.1', '159', '19M', '10,000+', 'Free', '0', 'Everyone', 'Art & Design', 'January 7, 2018', '1.0.0', '4.0.3 and up']\n",
      "\n",
      "\n",
      "numbers of rows before delete = {0} 10841\n",
      "\n",
      "\n",
      "numbers of rows After delete = {0} 10840\n"
     ]
    }
   ],
   "source": [
    "#Data Cleaning\n",
    "\n",
    "# 1.Deleting Wrong Data \n",
    "\n",
    "print(android_header)\n",
    "print('\\n')\n",
    "\n",
    "print(android[10472])\n",
    "print('\\n')\n",
    "\n",
    "print(android[0])\n",
    "print('\\n')\n",
    "\n",
    "NO_Rows_Bdelete=len(android) #numbers of rows before delete\n",
    "\n",
    "#delete wrong row\n",
    "del(android[10472])\n",
    "NO_Rows_Adelete=len(android)  #numbers of rows after delete\n",
    "print(\"numbers of rows before delete = {0}\",NO_Rows_Bdelete)\n",
    "print('\\n')\n",
    "print(\"numbers of rows After delete = {0}\",NO_Rows_Adelete)\n"
   ]
  },
  {
   "cell_type": "code",
   "execution_count": 7,
   "id": "cf7157de",
   "metadata": {},
   "outputs": [
    {
     "name": "stdout",
     "output_type": "stream",
     "text": [
      "9659\n"
     ]
    }
   ],
   "source": [
    "# II. Removing Duplicate Entri for googleplaydata\n",
    "\n",
    "reviews_max={}\n",
    "for app in android:\n",
    "    name=app[0]\n",
    "    n_reviews=float(app[3])  \n",
    "    if(name in reviews_max and reviews_max[name]<n_reviews ):    \n",
    "        reviews_max[name]=n_reviews\n",
    "    if(name not in reviews_max):\n",
    "        reviews_max[name]=float(app[3])\n",
    "        \n",
    "print(len(reviews_max))"
   ]
  },
  {
   "cell_type": "code",
   "execution_count": 8,
   "id": "b1c1406b",
   "metadata": {},
   "outputs": [
    {
     "name": "stdout",
     "output_type": "stream",
     "text": [
      "['Photo Editor & Candy Camera & Grid & ScrapBook', 'ART_AND_DESIGN', '4.1', '159', '19M', '10,000+', 'Free', '0', 'Everyone', 'Art & Design', 'January 7, 2018', '1.0.0', '4.0.3 and up']\n",
      "['U Launcher Lite â€“ FREE Live Cool Themes, Hide Apps', 'ART_AND_DESIGN', '4.7', '87510', '8.7M', '5,000,000+', 'Free', '0', 'Everyone', 'Art & Design', 'August 1, 2018', '1.2.4', '4.0.3 and up']\n",
      "['Sketch - Draw & Paint', 'ART_AND_DESIGN', '4.5', '215644', '25M', '50,000,000+', 'Free', '0', 'Teen', 'Art & Design', 'June 8, 2018', 'Varies with device', '4.2 and up']\n",
      "number of rows = 9659\n",
      "number of columns = 13\n"
     ]
    }
   ],
   "source": [
    "android_clean=[]\n",
    "already_added=[]\n",
    "for app in android:\n",
    "    name=app[0]\n",
    "    n_reviews=float(app[3])\n",
    "    if(n_reviews == reviews_max[name] and name not in already_added):\n",
    "        android_clean.append(app)\n",
    "        already_added.append(name)\n",
    "\n",
    "explore_data(android_clean,0,3,True)"
   ]
  },
  {
   "cell_type": "code",
   "execution_count": 9,
   "id": "db38ee19",
   "metadata": {},
   "outputs": [
    {
     "name": "stdout",
     "output_type": "stream",
     "text": [
      "7195\n",
      "['1', '281656475', 'PAC-MAN Premium', '100788224', 'USD', '3.99', '21292', '26', '4', '4.5', '6.3.5', '4+', 'Games', '38', '5', '10', '1']\n",
      "['2', '281796108', 'Evernote - stay organized', '158578688', 'USD', '0', '161065', '26', '4', '3.5', '8.2.2', '4+', 'Productivity', '37', '5', '23', '1']\n",
      "['3', '281940292', 'WeatherBug - Local Weather, Radar, Maps, Alerts', '100524032', 'USD', '0', '188583', '2822', '3.5', '4.5', '5.0.0', '4+', 'Weather', '37', '5', '3', '1']\n",
      "number of rows = 7195\n",
      "number of columns = 17\n"
     ]
    }
   ],
   "source": [
    "# II. Removing Duplicate Entri for AppleStoreData\n",
    "rating_max={}\n",
    "for app in iphone:\n",
    "    name=app[2]\n",
    "    n_ratings=float(app[6])  \n",
    "    if(name in rating_max and rating_max[name]<n_ratings ):    \n",
    "        rating_max[name]=n_ratings\n",
    "    if(name not in rating_max):\n",
    "        rating_max[name]=float(app[6])\n",
    "        \n",
    "print(len(rating_max))\n",
    "\n",
    "iphone_clean=[]\n",
    "already_found=[]\n",
    "for app in iphone:\n",
    "    name=app[2]\n",
    "    n_ratings=float(app[6])  \n",
    "    if(n_ratings == rating_max[name] and name not in already_found):\n",
    "        iphone_clean.append(app)\n",
    "        already_found.append(name)\n",
    "\n",
    "explore_data(iphone_clean,0,3,True)"
   ]
  },
  {
   "cell_type": "code",
   "execution_count": 10,
   "id": "b051ce7d",
   "metadata": {},
   "outputs": [
    {
     "name": "stdout",
     "output_type": "stream",
     "text": [
      "Bfore filter non_english apps =  9659\n",
      "\n",
      "\n",
      "After filter non_english apps =  9507\n"
     ]
    }
   ],
   "source": [
    "#III. Removing Non-English Apps for googleplay\n",
    "\n",
    "def is_english(string):\n",
    "    wrong_char=0\n",
    "    for char in string:\n",
    "        if(ord(char) >127):\n",
    "            wrong_char=wrong_char+1\n",
    "            if(wrong_char>3):\n",
    "                return False\n",
    "    return True\n",
    "\n",
    "before_del=len(android_clean)\n",
    "deleted_app=[]\n",
    "for app in android_clean:\n",
    "    name = app[0]\n",
    "    app_index = android_clean.index(app)\n",
    "    if(not is_english(name)):\n",
    "       deleted_app.append(android_clean[app_index])\n",
    "       del(android_clean[app_index])\n",
    "\n",
    "print(\"Bfore filter non_english apps = \",before_del)\n",
    "print('\\n')\n",
    "print(\"After filter non_english apps = \",len(android_clean))"
   ]
  },
  {
   "cell_type": "code",
   "execution_count": 11,
   "id": "e64ddac4",
   "metadata": {},
   "outputs": [
    {
     "name": "stdout",
     "output_type": "stream",
     "text": [
      "Bfore filter non_english apps =  7195\n",
      "\n",
      "\n",
      "After filter non_english apps =  6299\n"
     ]
    }
   ],
   "source": [
    "#III. Removing Non-English Apps  for AppleStore\n",
    "def is_english(string):\n",
    "    wrong_char=0\n",
    "    for char in string:\n",
    "        if(ord(char) >127):\n",
    "            wrong_char=wrong_char+1\n",
    "            if(wrong_char>3):\n",
    "                return False\n",
    "    return True\n",
    "\n",
    "before_del=len(iphone_clean)\n",
    "deleted_app=[]\n",
    "for app in iphone_clean:\n",
    "    name = app[2]\n",
    "    app_index = iphone_clean.index(app)\n",
    "    if(not is_english(name)):\n",
    "        deleted_app.append(iphone_clean[app_index])\n",
    "        del(iphone_clean[app_index])\n",
    "\n",
    "print(\"Bfore filter non_english apps = \",before_del)\n",
    "print('\\n')\n",
    "print(\"After filter non_english apps = \",len(iphone_clean))"
   ]
  },
  {
   "cell_type": "code",
   "execution_count": 12,
   "id": "a2c28d21",
   "metadata": {},
   "outputs": [
    {
     "name": "stdout",
     "output_type": "stream",
     "text": [
      "\n",
      "\n",
      "Bfore filter non_free apps =  9507\n",
      "\n",
      "\n",
      "After filter non_free apps =  8899\n"
     ]
    }
   ],
   "source": [
    "# IV. Isolating the Free Apps for googleplay\n",
    "\n",
    "before_del=len(android_clean)\n",
    "not_free=[]\n",
    "for app in android_clean:\n",
    "    app_index = android_clean.index(app)\n",
    "    free=app[7]\n",
    "    \n",
    "    if(not free =='0'):\n",
    "        not_free.append(android_clean[app_index])\n",
    "        del(android_clean[app_index])\n",
    "print('\\n')\n",
    "print(\"Bfore filter non_free apps = \",before_del)\n",
    "print('\\n')\n",
    "print(\"After filter non_free apps = \",len(android_clean))"
   ]
  },
  {
   "cell_type": "code",
   "execution_count": 13,
   "id": "4de85c33",
   "metadata": {},
   "outputs": [
    {
     "name": "stdout",
     "output_type": "stream",
     "text": [
      "\n",
      "\n",
      "Bfore filter non_free apps =  6299\n",
      "\n",
      "\n",
      "After filter non_free apps =  4302\n"
     ]
    }
   ],
   "source": [
    "\n",
    "# IV. Isolating the Free Apps for AppleStore\n",
    "before_del=len(iphone_clean)\n",
    "not_free=[]\n",
    "for app in iphone_clean:\n",
    "    app_index = iphone_clean.index(app)\n",
    "    free=app[5]\n",
    "    \n",
    "    if(not free =='0'):\n",
    "        not_free.append(iphone_clean[app_index])\n",
    "        del(iphone_clean[app_index])\n",
    "print('\\n')\n",
    "print(\"Bfore filter non_free apps = \",before_del)\n",
    "print('\\n')\n",
    "print(\"After filter non_free apps = \",len(iphone_clean))"
   ]
  }
 ],
 "metadata": {
  "kernelspec": {
   "display_name": "Python 3",
   "language": "python",
   "name": "python3"
  },
  "language_info": {
   "codemirror_mode": {
    "name": "ipython",
    "version": 3
   },
   "file_extension": ".py",
   "mimetype": "text/x-python",
   "name": "python",
   "nbconvert_exporter": "python",
   "pygments_lexer": "ipython3",
   "version": "3.8.8"
  }
 },
 "nbformat": 4,
 "nbformat_minor": 5
}
